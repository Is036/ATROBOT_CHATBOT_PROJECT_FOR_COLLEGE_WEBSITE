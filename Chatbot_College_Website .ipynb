{
  "nbformat": 4,
  "nbformat_minor": 0,
  "metadata": {
    "colab": {
      "name": "Chatbot_College_Website.ipynb",
      "provenance": [],
      "collapsed_sections": [],
      "toc_visible": true
    },
    "kernelspec": {
      "name": "python3",
      "display_name": "Python 3"
    }
  },
  "cells": [
    {
      "cell_type": "markdown",
      "metadata": {
        "id": "tKQ3TducLkPu",
        "colab_type": "text"
      },
      "source": [
        "\n",
        "\n",
        "---\n",
        "\n",
        "# Import necessary libraries"
      ]
    },
    {
      "cell_type": "code",
      "metadata": {
        "id": "ghTbnagt6l7V",
        "colab_type": "code",
        "colab": {}
      },
      "source": [
        "import io\n",
        "import random\n",
        "import string # to process standard python strings\n",
        "import warnings\n",
        "import numpy as np\n",
        "from sklearn.feature_extraction.text import TfidfVectorizer\n",
        "from sklearn.metrics.pairwise import cosine_similarity\n",
        "import warnings\n",
        "warnings.filterwarnings('ignore')"
      ],
      "execution_count": 3,
      "outputs": []
    },
    {
      "cell_type": "markdown",
      "metadata": {
        "id": "6aYVEEAA7ogp",
        "colab_type": "text"
      },
      "source": [
        "# Downloading and installing NLTK\n",
        "The Natural Language Toolkit, or more commonly NLTK, is a suite of libraries and programs for symbolic and statistical natural language processing (NLP) for English written in the Python programming language. NLTK has been used successfully as a teaching tool, as an individual study tool, and as a platform for prototyping and building research systems."
      ]
    },
    {
      "cell_type": "code",
      "metadata": {
        "id": "8kZWxjaO73JR",
        "colab_type": "code",
        "colab": {
          "base_uri": "https://localhost:8080/",
          "height": 51
        },
        "outputId": "25ac314a-4a7b-420a-ba79-4cd1b424e3a2"
      },
      "source": [
        "pip install nltk"
      ],
      "execution_count": 4,
      "outputs": [
        {
          "output_type": "stream",
          "text": [
            "Requirement already satisfied: nltk in /usr/local/lib/python3.6/dist-packages (3.2.5)\n",
            "Requirement already satisfied: six in /usr/local/lib/python3.6/dist-packages (from nltk) (1.15.0)\n"
          ],
          "name": "stdout"
        }
      ]
    },
    {
      "cell_type": "markdown",
      "metadata": {
        "id": "tjD4zPWo7-Ou",
        "colab_type": "text"
      },
      "source": [
        "# Installing NLTK Packages"
      ]
    },
    {
      "cell_type": "code",
      "metadata": {
        "id": "dFQ-J2z28Bdq",
        "colab_type": "code",
        "colab": {
          "base_uri": "https://localhost:8080/",
          "height": 34
        },
        "outputId": "6c73acf3-52d8-4ab4-a47d-7a4637044614"
      },
      "source": [
        "import nltk\n",
        "from nltk.stem import WordNetLemmatizer\n",
        "nltk.download('popular', quiet=True) # for downloading packages\n",
        "#nltk.download('punkt') # first-time use only\n",
        "#nltk.download('wordnet') # first-time use only"
      ],
      "execution_count": 5,
      "outputs": [
        {
          "output_type": "execute_result",
          "data": {
            "text/plain": [
              "True"
            ]
          },
          "metadata": {
            "tags": []
          },
          "execution_count": 5
        }
      ]
    },
    {
      "cell_type": "markdown",
      "metadata": {
        "id": "1Nny6KH18N02",
        "colab_type": "text"
      },
      "source": [
        "# Reading in the corpus"
      ]
    },
    {
      "cell_type": "code",
      "metadata": {
        "id": "SvTLnt3O8Uyg",
        "colab_type": "code",
        "colab": {}
      },
      "source": [
        "folder=open('college website.txt','r',errors = 'ignore')\n",
        "raw=folder.read()\n",
        "raw = raw.upper()# converts to upper case"
      ],
      "execution_count": 7,
      "outputs": []
    },
    {
      "cell_type": "markdown",
      "metadata": {
        "id": "f1KtCTZk8gI1",
        "colab_type": "text"
      },
      "source": [
        "The main issue with text data is that it is all in text format (strings). However, the Machine learning algorithms need some sort of numerical feature vector in order to perform the task. So before we start with any NLP project we need to pre-process it to make it ideal for working. Basic text pre-processing includes:\n",
        "\n",
        "Converting the entire text into uppercase or lowercase, so that the algorithm does not treat the same words in different cases as different\n",
        "\n",
        "Tokenization: Tokenization is just the term used to describe the process of converting the normal text strings into a list of tokens i.e words that we actually want. Sentence tokenizer can be used to find the list of sentences and Word tokenizer can be used to find the list of words in strings.\n",
        "\n",
        "**The NLTK data package includes a pre-trained Punkt tokenizer for English..**\n",
        "* Removing Noise i.e everything that isn’t in a standard number or letter.\n",
        "*   Removing the Stop words. Sometimes, some extremely common words which would appear to be of little value in helping select documents matching a user need are excluded from the vocabulary entirely. These words are called stop words.\n",
        "\n",
        "**Stemming**:Stemming is the process of producing morphological variants of a root/base word. Stemming programs are commonly referred to as stemming algorithms or stemmers. A stemming algorithm reduces the words “chocolates”, “chocolatey”, “choco” to the root word, “chocolate”.\n",
        " **Lemmatization**Lemmatization is the process of grouping together the different inflected forms of a word so they can be analysed as a single item. Lemmatization is similar to stemming but it brings context to the words. So it links words with similar meaning to one word.\n",
        "\n"
      ]
    },
    {
      "cell_type": "markdown",
      "metadata": {
        "id": "NXOc1KRH-LPT",
        "colab_type": "text"
      },
      "source": [
        "# Tokenisation"
      ]
    },
    {
      "cell_type": "code",
      "metadata": {
        "id": "LivLDRp7-UM2",
        "colab_type": "code",
        "colab": {}
      },
      "source": [
        "senttokens = nltk.sent_tokenize(raw)# converts to list of sentences \n",
        "wordtokens = nltk.word_tokenize(raw)# converts to list of words"
      ],
      "execution_count": 8,
      "outputs": []
    },
    {
      "cell_type": "markdown",
      "metadata": {
        "id": "6CazZvz9-eEd",
        "colab_type": "text"
      },
      "source": [
        "# Preprocessing\n",
        "\n",
        "We shall now define a function called LemTokens which will take as input the tokens and return normalized tokens."
      ]
    },
    {
      "cell_type": "code",
      "metadata": {
        "id": "ITkhklUc-mQi",
        "colab_type": "code",
        "colab": {}
      },
      "source": [
        "lemmer = nltk.stem.WordNetLemmatizer()\n",
        "#WordNet is a semantically-oriented dictionary of English included in NLTK.\n",
        "def LemTokens(tokens):\n",
        "    return [lemmer.lemmatize(token) for token in tokens]\n",
        "dict_remove_punct = dict((ord(punct), None) for punct in string.punctuation)\n",
        "\n",
        "def LemNormalize(text):\n",
        "    return LemTokens(nltk.word_tokenize(text.lower().translate(dict_remove_punct)))"
      ],
      "execution_count": 9,
      "outputs": []
    },
    {
      "cell_type": "markdown",
      "metadata": {
        "id": "N3ijZB-O-to2",
        "colab_type": "text"
      },
      "source": [
        "# Keyword matching\n",
        "Here we define a function for a greeting by our ATROBOT i.e if a user’s input is a greeting, the ATROBOT shall return a greeting response."
      ]
    },
    {
      "cell_type": "code",
      "metadata": {
        "id": "RiPIrNWI-xsA",
        "colab_type": "code",
        "colab": {}
      },
      "source": [
        "GREETING_INPUTS = (\"hello\", \"hi\",\"Namaste\", \"greetings\", \"sup\", \"what's up\",\"hey\",)\n",
        "GREETING_RESPONSES = [\"hi\", \"hey\",\"hello\",\"Namaste\",\"hi how can i help  you\"]\n",
        "def greeting(sentence):\n",
        " \n",
        "    for word in sentence.split():\n",
        "        if word.lower() in GREETING_INPUTS:\n",
        "            return random.choice(GREETING_RESPONSES)"
      ],
      "execution_count": 2,
      "outputs": []
    },
    {
      "cell_type": "markdown",
      "metadata": {
        "id": "pHwvXLcz_Nk5",
        "colab_type": "text"
      },
      "source": [
        "# Generating Response\n",
        "**Bag of Words**\n",
        "\n",
        " After the initial preprocessing phase, we need to transform text into a meaningful vector (or array) of numbers. The bag-of-words is a representation of text that describes the occurrence of words within a document.\n",
        "\n",
        " The intuition behind the Bag of Words is that documents are similar if they have similar content. Also, we can learn something about the meaning of the document from its content alone.\n",
        "\n",
        "For example, if our dictionary contains the words {Learning, is, the, not, great}, and we want to vectorize the text “Learning is great”, we would have the following vector: (1, 1, 0, 0, 1).\n",
        "# TF-IDF Approach\n",
        "A problem with the Bag of Words approach is that highly frequent words start to dominate in the document (e.g. larger score), but may not contain as much “informational content”. Also, it will give more weight to longer documents than shorter documents.\n",
        "\n",
        "One approach is to rescale the frequency of words by how often they appear in all documents so that the scores for frequent words like “the” that are also frequent across all documents are penalized. This approach to scoring is called Term Frequency-Inverse Document Frequency, or TF-IDF for short, where:\n",
        "**Term Frequency: is a scoring of the frequency of the word in the current document.**\n",
        "\n",
        "TF = (Number of times term t appears in a document)/(Number of terms in the document)\n",
        "**Inverse Document Frequency: is a scoring of how rare the word is across documents.**\n",
        "\n",
        "IDF = 1+log(N/n), where, N is the number of documents and n is the number of documents a term t has appeared in.\n",
        "# Cosine Similarity\n",
        "Tf-idf weight is a weight often used in information retrieval and text mining. This weight is a statistical measure used to evaluate how important a word is to a document in a collection or corpus\n",
        "\n",
        "Cosine Similarity (d1, d2) =  Dot product(d1, d2) / ||d1|| * ||d2||\n",
        "where d1,d2 are two non zero vectors.\n",
        "\n",
        "To generate a response from our atrobot for input questions, the concept of document similarity will be used. We define a function response which searches the user’s utterance for one or more known keywords and returns one of several possible responses. If it doesn’t find the input matching any of the keywords, it returns a response:” I am sorry! I don’t understand you”\n"
      ]
    },
    {
      "cell_type": "code",
      "metadata": {
        "id": "XDhUKxu3C5h9",
        "colab_type": "code",
        "colab": {}
      },
      "source": [
        "def response(user_response):\n",
        "    ATROBOT_response=''\n",
        "    senttokens.append(user_response)\n",
        "    TfidfVec = TfidfVectorizer(tokenizer=LemNormalize, stop_words='english')\n",
        "    tfidf = TfidfVec.fit_transform(senttokens)\n",
        "    vals = cosine_similarity(tfidf[-1], tfidf)\n",
        "    idx=vals.argsort()[0][-2]\n",
        "    flat = vals.flatten()\n",
        "    flat.sort()\n",
        "    req_tfidf = flat[-2]\n",
        "    if(req_tfidf==0):\n",
        "        ATROBOT_response=ATROBOT_response+\"I am sorry! I don't understand you\"\n",
        "        return ATROBOT_response\n",
        "    else:\n",
        "        ATROBOT_response =  ATROBOT_response+senttokens[idx]\n",
        "        return  ATROBOT_response"
      ],
      "execution_count": 10,
      "outputs": []
    },
    {
      "cell_type": "markdown",
      "metadata": {
        "id": "6SCTkQG_BV4_",
        "colab_type": "text"
      },
      "source": [
        "Finally, feed the lines that we want our atrobot to say while starting and ending a conversation depending upon user’s input."
      ]
    },
    {
      "cell_type": "code",
      "metadata": {
        "id": "lK7XuE-OL5lQ",
        "colab_type": "code",
        "colab": {
          "base_uri": "https://localhost:8080/",
          "height": 260
        },
        "outputId": "1f19b471-ef7b-4d41-ecd1-933fa54d1379"
      },
      "source": [
        "flag=True\n",
        "print(\"ATROBOT: Hi..Welcome to ATRIA INSTITUTE OF TECHNOLOGY..I am your virtual assistant ATROBOT. Let me answer your queries regarding this institution. If you want to exit, type Bye!\")\n",
        "while(flag==True):\n",
        "    user_response = input()\n",
        "    user_response=user_response.lower()\n",
        "    if(user_response!='bye'):\n",
        "        if(user_response=='thanks' or user_response=='thank you' ):\n",
        "            flag=False\n",
        "            print(\"ATROBOT: You are welcome..\")\n",
        "        else:\n",
        "            if(greeting(user_response)!=None):\n",
        "                print(\"ATROBOT: \"+greeting(user_response))\n",
        "            else:\n",
        "                print(\"ATROBOT: \",end=\"\")\n",
        "                print(response(user_response))\n",
        "                senttokens.remove(user_response)\n",
        "    else:\n",
        "        flag=False\n",
        "        print(\"ATROBOT: Bye! take care..\")"
      ],
      "execution_count": null,
      "outputs": [
        {
          "output_type": "stream",
          "text": [
            "ATROBOT: Hi..Welcome to ATRIA INSTITUTE OF TECHNOLOGY..I am your virtual assistant ATROBOT. Let me answer your queries regarding this institution. If you want to exit, type Bye!\n",
            "hi\n",
            "ATROBOT: hi\n",
            "what is the name of the college\n",
            "ATROBOT: NAME OF THE COLLEGE\n",
            "ATRIA INSTITUTE OF TECHNOLOGY BANGLORE.\n",
            "hostel facility\n",
            "ATROBOT: HOSTEL FACILITIES\n",
            "WE HAVE SEPERATE HOSTEL FOR BOYS AND GIRLS WITH SEMI FURNISHED ROOM,STUDENT FRIENDLY WARDENS,WI-FI CONECTIVITY,CCTV CAMERAS,INDOOR GAMES,24/7 SECURITY.\n",
            "tell me about placements\n",
            "ATROBOT: PLACEMENTS\n",
            "AT ATRIA,WE HAVE PLACEMENT AS AN INTEGRAL PART OF THE EDUCATION PROCESS OF A STUDENT;PLACEMENT PREPARATION & READINESS STARTS SOON AFTER ADMISSIONS - FOR EACH STUDENT, IDENTIFYING THE BASIC SKILLS AND IMPROVEMENT AREAS,CONDUCTING FOUNDATION, ADD-ON, AND ADVANTAGE COURSES,MONITORING THE PROGRESS AND ENHANCING THE READINESS TO FACE THE PLACEMENT SEASON WITH CONFIDENCE,IS AN INTERDISCIPLINARY ACTIVITY WITH OVERSIGHT BY THE ACADEMIC HEAD AND THE PLACEMENT HEAD OF THE INSTITUTION.\n"
          ],
          "name": "stdout"
        }
      ]
    }
  ]
}